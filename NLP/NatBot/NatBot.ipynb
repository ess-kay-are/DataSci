{
 "cells": [
  {
   "cell_type": "code",
   "execution_count": 4,
   "id": "0a4b1285",
   "metadata": {},
   "outputs": [
    {
     "name": "stderr",
     "output_type": "stream",
     "text": [
      "[nltk_data] Downloading package vader_lexicon to\n",
      "[nltk_data]     C:\\Users\\stefe\\AppData\\Roaming\\nltk_data...\n",
      "[nltk_data]   Package vader_lexicon is already up-to-date!\n"
     ]
    },
    {
     "data": {
      "text/plain": [
       "True"
      ]
     },
     "execution_count": 4,
     "metadata": {},
     "output_type": "execute_result"
    }
   ],
   "source": [
    "import subprocess\n",
    "import sys\n",
    "\n",
    "# Install NLTK if not already installed\n",
    "def install_nltk():\n",
    "    subprocess.check_call([sys.executable, '-m', 'pip', 'install', 'nltk'])\n",
    "\n",
    "try:\n",
    "    import nltk\n",
    "except ImportError:\n",
    "    print(\"NLTK not found. Installing...\")\n",
    "    install_nltk()\n",
    "\n",
    "# Download NLTK data files\n",
    "nltk.download('vader_lexicon')"
   ]
  },
  {
   "cell_type": "code",
   "execution_count": null,
   "id": "99fea18e",
   "metadata": {},
   "outputs": [],
   "source": [
    "from nltk.sentiment.vader import SentimentIntensityAnalyzer\n",
    "\n",
    "def sentiment_analysis(text):\n",
    "    sid = SentimentIntensityAnalyzer()\n",
    "    scores = sid.polarity_scores(text)\n",
    "    \n",
    "    if scores['compound'] >= 0.05:\n",
    "        return \"that's cute\"\n",
    "    elif scores['compound'] <= -0.05:\n",
    "        return \"that's awful\"\n",
    "    else:\n",
    "        return \"okay..!\"\n",
    "\n",
    "while True:\n",
    "    user_input = input(\"Enter your text (type 'exit' to quit): \")\n",
    "    \n",
    "    if user_input.lower() == 'exit':\n",
    "        break\n",
    "    \n",
    "    sentiment_response = sentiment_analysis(user_input)\n",
    "    print(sentiment_response)"
   ]
  },
  {
   "cell_type": "code",
   "execution_count": null,
   "id": "fb72333d",
   "metadata": {},
   "outputs": [],
   "source": [
    "import tkinter as tk\n",
    "from tkinter import ttk, messagebox\n",
    "from nltk.sentiment.vader import SentimentIntensityAnalyzer\n",
    "\n",
    "def sentiment_analysis(text):\n",
    "    sid = SentimentIntensityAnalyzer()\n",
    "    scores = sid.polarity_scores(text)\n",
    "    \n",
    "    if scores['compound'] >= 0.05:\n",
    "        return \"that's cute\"\n",
    "    elif scores['compound'] <= -0.05:\n",
    "        return \"that's awful\"\n",
    "    else:\n",
    "        return \"okay..!\"\n",
    "\n",
    "def analyze_sentiment():\n",
    "    user_input = text_entry.get(\"1.0\", \"end-1c\")\n",
    "    \n",
    "    if user_input.strip():  # Check if input is not empty\n",
    "        sentiment_response = sentiment_analysis(user_input)\n",
    "        messagebox.showinfo(\"Sentiment Analysis Result\", sentiment_response)\n",
    "    else:\n",
    "        messagebox.showwarning(\"Warning\", \"Please enter some text.\")\n",
    "\n",
    "# Create the main application window\n",
    "root = tk.Tk()\n",
    "root.title(\"NatBot\")\n",
    "\n",
    "# Create GUI components\n",
    "label = ttk.Label(root, text=\"Enter your text:\")\n",
    "label.pack(pady=10)\n",
    "\n",
    "text_entry = tk.Text(root, height=5, width=50)\n",
    "text_entry.pack(pady=10)\n",
    "\n",
    "analyze_button = ttk.Button(root, text=\"Chat with Nat\", command=analyze_sentiment)\n",
    "analyze_button.pack(pady=10)\n",
    "\n",
    "# Run the main event loop\n",
    "root.mainloop()"
   ]
  },
  {
   "cell_type": "code",
   "execution_count": null,
   "id": "24b36167",
   "metadata": {},
   "outputs": [],
   "source": []
  }
 ],
 "metadata": {
  "kernelspec": {
   "display_name": "Python 3 (ipykernel)",
   "language": "python",
   "name": "python3"
  },
  "language_info": {
   "codemirror_mode": {
    "name": "ipython",
    "version": 3
   },
   "file_extension": ".py",
   "mimetype": "text/x-python",
   "name": "python",
   "nbconvert_exporter": "python",
   "pygments_lexer": "ipython3",
   "version": "3.11.7"
  }
 },
 "nbformat": 4,
 "nbformat_minor": 5
}
