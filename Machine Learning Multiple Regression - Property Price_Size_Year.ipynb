{
 "cells": [
  {
   "cell_type": "code",
   "execution_count": 1,
   "id": "6c7e3147",
   "metadata": {},
   "outputs": [],
   "source": [
    "import numpy as np\n",
    "import pandas as pd\n",
    "import matplotlib.pyplot as plt\n",
    "import seaborn as sns\n",
    "sns.set()\n",
    "\n",
    "from sklearn.linear_model import LinearRegression\n",
    "\n",
    "#import relevant packages for multiple regresison and machine learning"
   ]
  },
  {
   "cell_type": "code",
   "execution_count": 2,
   "id": "71df71a7",
   "metadata": {},
   "outputs": [],
   "source": [
    "data = pd.read_csv('real_estate_price_size_year.csv') #load data"
   ]
  },
  {
   "cell_type": "code",
   "execution_count": 3,
   "id": "ac1a0ee5",
   "metadata": {},
   "outputs": [
    {
     "data": {
      "text/html": [
       "<div>\n",
       "<style scoped>\n",
       "    .dataframe tbody tr th:only-of-type {\n",
       "        vertical-align: middle;\n",
       "    }\n",
       "\n",
       "    .dataframe tbody tr th {\n",
       "        vertical-align: top;\n",
       "    }\n",
       "\n",
       "    .dataframe thead th {\n",
       "        text-align: right;\n",
       "    }\n",
       "</style>\n",
       "<table border=\"1\" class=\"dataframe\">\n",
       "  <thead>\n",
       "    <tr style=\"text-align: right;\">\n",
       "      <th></th>\n",
       "      <th>price</th>\n",
       "      <th>size</th>\n",
       "      <th>year</th>\n",
       "    </tr>\n",
       "  </thead>\n",
       "  <tbody>\n",
       "    <tr>\n",
       "      <th>0</th>\n",
       "      <td>245050.280</td>\n",
       "      <td>575.19</td>\n",
       "      <td>0</td>\n",
       "    </tr>\n",
       "    <tr>\n",
       "      <th>1</th>\n",
       "      <td>175716.480</td>\n",
       "      <td>620.82</td>\n",
       "      <td>0</td>\n",
       "    </tr>\n",
       "    <tr>\n",
       "      <th>2</th>\n",
       "      <td>444192.008</td>\n",
       "      <td>1300.96</td>\n",
       "      <td>0</td>\n",
       "    </tr>\n",
       "    <tr>\n",
       "      <th>3</th>\n",
       "      <td>440201.616</td>\n",
       "      <td>1379.72</td>\n",
       "      <td>0</td>\n",
       "    </tr>\n",
       "    <tr>\n",
       "      <th>4</th>\n",
       "      <td>234178.160</td>\n",
       "      <td>623.94</td>\n",
       "      <td>0</td>\n",
       "    </tr>\n",
       "    <tr>\n",
       "      <th>...</th>\n",
       "      <td>...</td>\n",
       "      <td>...</td>\n",
       "      <td>...</td>\n",
       "    </tr>\n",
       "    <tr>\n",
       "      <th>95</th>\n",
       "      <td>376253.808</td>\n",
       "      <td>1009.25</td>\n",
       "      <td>12</td>\n",
       "    </tr>\n",
       "    <tr>\n",
       "      <th>96</th>\n",
       "      <td>211904.536</td>\n",
       "      <td>601.66</td>\n",
       "      <td>12</td>\n",
       "    </tr>\n",
       "    <tr>\n",
       "      <th>97</th>\n",
       "      <td>354512.112</td>\n",
       "      <td>1236.93</td>\n",
       "      <td>12</td>\n",
       "    </tr>\n",
       "    <tr>\n",
       "      <th>98</th>\n",
       "      <td>251140.656</td>\n",
       "      <td>694.52</td>\n",
       "      <td>12</td>\n",
       "    </tr>\n",
       "    <tr>\n",
       "      <th>99</th>\n",
       "      <td>266684.248</td>\n",
       "      <td>698.29</td>\n",
       "      <td>12</td>\n",
       "    </tr>\n",
       "  </tbody>\n",
       "</table>\n",
       "<p>100 rows × 3 columns</p>\n",
       "</div>"
      ],
      "text/plain": [
       "         price     size  year\n",
       "0   245050.280   575.19     0\n",
       "1   175716.480   620.82     0\n",
       "2   444192.008  1300.96     0\n",
       "3   440201.616  1379.72     0\n",
       "4   234178.160   623.94     0\n",
       "..         ...      ...   ...\n",
       "95  376253.808  1009.25    12\n",
       "96  211904.536   601.66    12\n",
       "97  354512.112  1236.93    12\n",
       "98  251140.656   694.52    12\n",
       "99  266684.248   698.29    12\n",
       "\n",
       "[100 rows x 3 columns]"
      ]
     },
     "execution_count": 3,
     "metadata": {},
     "output_type": "execute_result"
    }
   ],
   "source": [
    "data #check data\n",
    "# note, the year feature denotes year from 2006, i.e., 0 = 2006, 3 = 2009, 12 = 2018, etc... "
   ]
  },
  {
   "cell_type": "code",
   "execution_count": 4,
   "id": "e7489d59",
   "metadata": {},
   "outputs": [
    {
     "data": {
      "text/html": [
       "<div>\n",
       "<style scoped>\n",
       "    .dataframe tbody tr th:only-of-type {\n",
       "        vertical-align: middle;\n",
       "    }\n",
       "\n",
       "    .dataframe tbody tr th {\n",
       "        vertical-align: top;\n",
       "    }\n",
       "\n",
       "    .dataframe thead th {\n",
       "        text-align: right;\n",
       "    }\n",
       "</style>\n",
       "<table border=\"1\" class=\"dataframe\">\n",
       "  <thead>\n",
       "    <tr style=\"text-align: right;\">\n",
       "      <th></th>\n",
       "      <th>price</th>\n",
       "      <th>size</th>\n",
       "      <th>year</th>\n",
       "    </tr>\n",
       "  </thead>\n",
       "  <tbody>\n",
       "    <tr>\n",
       "      <th>0</th>\n",
       "      <td>245050.280</td>\n",
       "      <td>575.19</td>\n",
       "      <td>0</td>\n",
       "    </tr>\n",
       "    <tr>\n",
       "      <th>1</th>\n",
       "      <td>175716.480</td>\n",
       "      <td>620.82</td>\n",
       "      <td>0</td>\n",
       "    </tr>\n",
       "    <tr>\n",
       "      <th>2</th>\n",
       "      <td>444192.008</td>\n",
       "      <td>1300.96</td>\n",
       "      <td>0</td>\n",
       "    </tr>\n",
       "    <tr>\n",
       "      <th>3</th>\n",
       "      <td>440201.616</td>\n",
       "      <td>1379.72</td>\n",
       "      <td>0</td>\n",
       "    </tr>\n",
       "    <tr>\n",
       "      <th>4</th>\n",
       "      <td>234178.160</td>\n",
       "      <td>623.94</td>\n",
       "      <td>0</td>\n",
       "    </tr>\n",
       "  </tbody>\n",
       "</table>\n",
       "</div>"
      ],
      "text/plain": [
       "        price     size  year\n",
       "0  245050.280   575.19     0\n",
       "1  175716.480   620.82     0\n",
       "2  444192.008  1300.96     0\n",
       "3  440201.616  1379.72     0\n",
       "4  234178.160   623.94     0"
      ]
     },
     "execution_count": 4,
     "metadata": {},
     "output_type": "execute_result"
    }
   ],
   "source": [
    "data.head() #check data again but first 5 frames"
   ]
  },
  {
   "cell_type": "code",
   "execution_count": 5,
   "id": "472a8588",
   "metadata": {},
   "outputs": [
    {
     "data": {
      "text/html": [
       "<div>\n",
       "<style scoped>\n",
       "    .dataframe tbody tr th:only-of-type {\n",
       "        vertical-align: middle;\n",
       "    }\n",
       "\n",
       "    .dataframe tbody tr th {\n",
       "        vertical-align: top;\n",
       "    }\n",
       "\n",
       "    .dataframe thead th {\n",
       "        text-align: right;\n",
       "    }\n",
       "</style>\n",
       "<table border=\"1\" class=\"dataframe\">\n",
       "  <thead>\n",
       "    <tr style=\"text-align: right;\">\n",
       "      <th></th>\n",
       "      <th>price</th>\n",
       "      <th>size</th>\n",
       "      <th>year</th>\n",
       "    </tr>\n",
       "  </thead>\n",
       "  <tbody>\n",
       "    <tr>\n",
       "      <th>count</th>\n",
       "      <td>100.000000</td>\n",
       "      <td>100.000000</td>\n",
       "      <td>100.000000</td>\n",
       "    </tr>\n",
       "    <tr>\n",
       "      <th>mean</th>\n",
       "      <td>292289.470160</td>\n",
       "      <td>853.024200</td>\n",
       "      <td>6.600000</td>\n",
       "    </tr>\n",
       "    <tr>\n",
       "      <th>std</th>\n",
       "      <td>77051.727525</td>\n",
       "      <td>297.941951</td>\n",
       "      <td>4.729021</td>\n",
       "    </tr>\n",
       "    <tr>\n",
       "      <th>min</th>\n",
       "      <td>154282.128000</td>\n",
       "      <td>479.750000</td>\n",
       "      <td>0.000000</td>\n",
       "    </tr>\n",
       "    <tr>\n",
       "      <th>25%</th>\n",
       "      <td>234280.148000</td>\n",
       "      <td>643.330000</td>\n",
       "      <td>3.000000</td>\n",
       "    </tr>\n",
       "    <tr>\n",
       "      <th>50%</th>\n",
       "      <td>280590.716000</td>\n",
       "      <td>696.405000</td>\n",
       "      <td>9.000000</td>\n",
       "    </tr>\n",
       "    <tr>\n",
       "      <th>75%</th>\n",
       "      <td>335723.696000</td>\n",
       "      <td>1029.322500</td>\n",
       "      <td>12.000000</td>\n",
       "    </tr>\n",
       "    <tr>\n",
       "      <th>max</th>\n",
       "      <td>500681.128000</td>\n",
       "      <td>1842.510000</td>\n",
       "      <td>12.000000</td>\n",
       "    </tr>\n",
       "  </tbody>\n",
       "</table>\n",
       "</div>"
      ],
      "text/plain": [
       "               price         size        year\n",
       "count     100.000000   100.000000  100.000000\n",
       "mean   292289.470160   853.024200    6.600000\n",
       "std     77051.727525   297.941951    4.729021\n",
       "min    154282.128000   479.750000    0.000000\n",
       "25%    234280.148000   643.330000    3.000000\n",
       "50%    280590.716000   696.405000    9.000000\n",
       "75%    335723.696000  1029.322500   12.000000\n",
       "max    500681.128000  1842.510000   12.000000"
      ]
     },
     "execution_count": 5,
     "metadata": {},
     "output_type": "execute_result"
    }
   ],
   "source": [
    "data.describe() #descriptives of our main variables, note Price = DV, Size/Year = IVs"
   ]
  },
  {
   "cell_type": "code",
   "execution_count": 6,
   "id": "fa75197a",
   "metadata": {},
   "outputs": [],
   "source": [
    "## Create the linear regression \n",
    "# Declare the IVs and DV\n",
    "\n",
    "x = data[['size', 'year']]\n",
    "y = data[['price']]"
   ]
  },
  {
   "cell_type": "code",
   "execution_count": 7,
   "id": "e8394aee",
   "metadata": {},
   "outputs": [
    {
     "data": {
      "text/html": [
       "<style>#sk-container-id-1 {color: black;background-color: white;}#sk-container-id-1 pre{padding: 0;}#sk-container-id-1 div.sk-toggleable {background-color: white;}#sk-container-id-1 label.sk-toggleable__label {cursor: pointer;display: block;width: 100%;margin-bottom: 0;padding: 0.3em;box-sizing: border-box;text-align: center;}#sk-container-id-1 label.sk-toggleable__label-arrow:before {content: \"▸\";float: left;margin-right: 0.25em;color: #696969;}#sk-container-id-1 label.sk-toggleable__label-arrow:hover:before {color: black;}#sk-container-id-1 div.sk-estimator:hover label.sk-toggleable__label-arrow:before {color: black;}#sk-container-id-1 div.sk-toggleable__content {max-height: 0;max-width: 0;overflow: hidden;text-align: left;background-color: #f0f8ff;}#sk-container-id-1 div.sk-toggleable__content pre {margin: 0.2em;color: black;border-radius: 0.25em;background-color: #f0f8ff;}#sk-container-id-1 input.sk-toggleable__control:checked~div.sk-toggleable__content {max-height: 200px;max-width: 100%;overflow: auto;}#sk-container-id-1 input.sk-toggleable__control:checked~label.sk-toggleable__label-arrow:before {content: \"▾\";}#sk-container-id-1 div.sk-estimator input.sk-toggleable__control:checked~label.sk-toggleable__label {background-color: #d4ebff;}#sk-container-id-1 div.sk-label input.sk-toggleable__control:checked~label.sk-toggleable__label {background-color: #d4ebff;}#sk-container-id-1 input.sk-hidden--visually {border: 0;clip: rect(1px 1px 1px 1px);clip: rect(1px, 1px, 1px, 1px);height: 1px;margin: -1px;overflow: hidden;padding: 0;position: absolute;width: 1px;}#sk-container-id-1 div.sk-estimator {font-family: monospace;background-color: #f0f8ff;border: 1px dotted black;border-radius: 0.25em;box-sizing: border-box;margin-bottom: 0.5em;}#sk-container-id-1 div.sk-estimator:hover {background-color: #d4ebff;}#sk-container-id-1 div.sk-parallel-item::after {content: \"\";width: 100%;border-bottom: 1px solid gray;flex-grow: 1;}#sk-container-id-1 div.sk-label:hover label.sk-toggleable__label {background-color: #d4ebff;}#sk-container-id-1 div.sk-serial::before {content: \"\";position: absolute;border-left: 1px solid gray;box-sizing: border-box;top: 0;bottom: 0;left: 50%;z-index: 0;}#sk-container-id-1 div.sk-serial {display: flex;flex-direction: column;align-items: center;background-color: white;padding-right: 0.2em;padding-left: 0.2em;position: relative;}#sk-container-id-1 div.sk-item {position: relative;z-index: 1;}#sk-container-id-1 div.sk-parallel {display: flex;align-items: stretch;justify-content: center;background-color: white;position: relative;}#sk-container-id-1 div.sk-item::before, #sk-container-id-1 div.sk-parallel-item::before {content: \"\";position: absolute;border-left: 1px solid gray;box-sizing: border-box;top: 0;bottom: 0;left: 50%;z-index: -1;}#sk-container-id-1 div.sk-parallel-item {display: flex;flex-direction: column;z-index: 1;position: relative;background-color: white;}#sk-container-id-1 div.sk-parallel-item:first-child::after {align-self: flex-end;width: 50%;}#sk-container-id-1 div.sk-parallel-item:last-child::after {align-self: flex-start;width: 50%;}#sk-container-id-1 div.sk-parallel-item:only-child::after {width: 0;}#sk-container-id-1 div.sk-dashed-wrapped {border: 1px dashed gray;margin: 0 0.4em 0.5em 0.4em;box-sizing: border-box;padding-bottom: 0.4em;background-color: white;}#sk-container-id-1 div.sk-label label {font-family: monospace;font-weight: bold;display: inline-block;line-height: 1.2em;}#sk-container-id-1 div.sk-label-container {text-align: center;}#sk-container-id-1 div.sk-container {/* jupyter's `normalize.less` sets `[hidden] { display: none; }` but bootstrap.min.css set `[hidden] { display: none !important; }` so we also need the `!important` here to be able to override the default hidden behavior on the sphinx rendered scikit-learn.org. See: https://github.com/scikit-learn/scikit-learn/issues/21755 */display: inline-block !important;position: relative;}#sk-container-id-1 div.sk-text-repr-fallback {display: none;}</style><div id=\"sk-container-id-1\" class=\"sk-top-container\"><div class=\"sk-text-repr-fallback\"><pre>LinearRegression()</pre><b>In a Jupyter environment, please rerun this cell to show the HTML representation or trust the notebook. <br />On GitHub, the HTML representation is unable to render, please try loading this page with nbviewer.org.</b></div><div class=\"sk-container\" hidden><div class=\"sk-item\"><div class=\"sk-estimator sk-toggleable\"><input class=\"sk-toggleable__control sk-hidden--visually\" id=\"sk-estimator-id-1\" type=\"checkbox\" checked><label for=\"sk-estimator-id-1\" class=\"sk-toggleable__label sk-toggleable__label-arrow\">LinearRegression</label><div class=\"sk-toggleable__content\"><pre>LinearRegression()</pre></div></div></div></div></div>"
      ],
      "text/plain": [
       "LinearRegression()"
      ]
     },
     "execution_count": 7,
     "metadata": {},
     "output_type": "execute_result"
    }
   ],
   "source": [
    "reg = LinearRegression()\n",
    "reg.fit(x,y)"
   ]
  },
  {
   "cell_type": "code",
   "execution_count": 8,
   "id": "f34ccda1",
   "metadata": {},
   "outputs": [
    {
     "data": {
      "text/plain": [
       "array([[ 227.70085401, 2916.78532684]])"
      ]
     },
     "execution_count": 8,
     "metadata": {},
     "output_type": "execute_result"
    }
   ],
   "source": [
    "reg.coef_ #unstandardised coefficients"
   ]
  },
  {
   "cell_type": "code",
   "execution_count": 9,
   "id": "32d144e8",
   "metadata": {},
   "outputs": [
    {
     "data": {
      "text/plain": [
       "array([78804.34817382])"
      ]
     },
     "execution_count": 9,
     "metadata": {},
     "output_type": "execute_result"
    }
   ],
   "source": [
    "reg.intercept_ #intercept"
   ]
  },
  {
   "cell_type": "code",
   "execution_count": 10,
   "id": "29e13d58",
   "metadata": {},
   "outputs": [
    {
     "data": {
      "text/plain": [
       "0.7764803683276793"
      ]
     },
     "execution_count": 10,
     "metadata": {},
     "output_type": "execute_result"
    }
   ],
   "source": [
    "reg.score(x,y) #R squared for the model"
   ]
  },
  {
   "cell_type": "markdown",
   "id": "29d1f41a",
   "metadata": {},
   "source": [
    "## Formula for R-squared adjusted\n",
    "\n",
    "$R^2_{adj.} = 1 - (1-R^2)*\\frac{n-1}{n-p-1}$\n",
    "\n",
    "note, n = no. of observations (i.e.,100); p = no. of predictors (i.e., 2)"
   ]
  },
  {
   "cell_type": "code",
   "execution_count": 11,
   "id": "733c97ae",
   "metadata": {},
   "outputs": [
    {
     "data": {
      "text/plain": [
       "0.77187171612825"
      ]
     },
     "execution_count": 11,
     "metadata": {},
     "output_type": "execute_result"
    }
   ],
   "source": [
    "r2 = reg.score(x,y)\n",
    "n = x.shape[0] #this is the number of observations in our data frame\n",
    "p = x.shape[1] #this is the number of predictors in our data frame\n",
    "\n",
    "adj_r2 = 1 - (1-r2)*(n-1)/(n-p-1) #Adj.R-square formula with our specified variables in the formula\n",
    "\n",
    "adj_r2 #print the adj.r-square result"
   ]
  },
  {
   "cell_type": "markdown",
   "id": "8e65ef95",
   "metadata": {},
   "source": [
    "# Feature Selection (F-regression)\n",
    "This method can help us determine through ML if any of the IVs/Features are redundant\n",
    "\n",
    "Essentially gives outputs that are the unstandardised coefficients for each weight"
   ]
  },
  {
   "cell_type": "code",
   "execution_count": 12,
   "id": "873fdae9",
   "metadata": {},
   "outputs": [],
   "source": [
    "from sklearn.feature_selection import f_regression"
   ]
  },
  {
   "cell_type": "code",
   "execution_count": 13,
   "id": "ec2c721d",
   "metadata": {},
   "outputs": [
    {
     "data": {
      "text/plain": [
       "(100,)"
      ]
     },
     "execution_count": 13,
     "metadata": {},
     "output_type": "execute_result"
    }
   ],
   "source": [
    "data['price'].shape #This is to check an error I Was getting saying the data weren't 1D"
   ]
  },
  {
   "cell_type": "code",
   "execution_count": 14,
   "id": "e556c25d",
   "metadata": {},
   "outputs": [],
   "source": [
    "y1 = data['price'].values.ravel() #this is to ravel the price data and create a new variable y1 that can parse through scikit"
   ]
  },
  {
   "cell_type": "code",
   "execution_count": 15,
   "id": "e06b0a0f",
   "metadata": {},
   "outputs": [
    {
     "data": {
      "text/plain": [
       "(array([285.92105192,   0.85525799]), array([8.12763222e-31, 3.57340758e-01]))"
      ]
     },
     "execution_count": 15,
     "metadata": {},
     "output_type": "execute_result"
    }
   ],
   "source": [
    "f_regression(x,y1) #first array is F-values, second array is p-values"
   ]
  },
  {
   "cell_type": "code",
   "execution_count": 16,
   "id": "8490c7c4",
   "metadata": {},
   "outputs": [
    {
     "data": {
      "text/plain": [
       "array([8.12763222e-31, 3.57340758e-01])"
      ]
     },
     "execution_count": 16,
     "metadata": {},
     "output_type": "execute_result"
    }
   ],
   "source": [
    "p_values = f_regression(x,y1)[1]\n",
    "p_values"
   ]
  },
  {
   "cell_type": "code",
   "execution_count": 17,
   "id": "75da491c",
   "metadata": {},
   "outputs": [
    {
     "data": {
      "text/plain": [
       "array([0.   , 0.357])"
      ]
     },
     "execution_count": 17,
     "metadata": {},
     "output_type": "execute_result"
    }
   ],
   "source": [
    "p_values.round(3) #this suggests that size is a significant input, but year may not be\n",
    "#meaning that size is a more useful feature for our ML model moving forward"
   ]
  },
  {
   "cell_type": "markdown",
   "id": "7fdec536",
   "metadata": {},
   "source": [
    "# Unstandardised Results Table"
   ]
  },
  {
   "cell_type": "code",
   "execution_count": 18,
   "id": "ee27939d",
   "metadata": {},
   "outputs": [
    {
     "data": {
      "text/html": [
       "<div>\n",
       "<style scoped>\n",
       "    .dataframe tbody tr th:only-of-type {\n",
       "        vertical-align: middle;\n",
       "    }\n",
       "\n",
       "    .dataframe tbody tr th {\n",
       "        vertical-align: top;\n",
       "    }\n",
       "\n",
       "    .dataframe thead th {\n",
       "        text-align: right;\n",
       "    }\n",
       "</style>\n",
       "<table border=\"1\" class=\"dataframe\">\n",
       "  <thead>\n",
       "    <tr style=\"text-align: right;\">\n",
       "      <th></th>\n",
       "      <th>Features</th>\n",
       "    </tr>\n",
       "  </thead>\n",
       "  <tbody>\n",
       "    <tr>\n",
       "      <th>0</th>\n",
       "      <td>size</td>\n",
       "    </tr>\n",
       "    <tr>\n",
       "      <th>1</th>\n",
       "      <td>year</td>\n",
       "    </tr>\n",
       "  </tbody>\n",
       "</table>\n",
       "</div>"
      ],
      "text/plain": [
       "  Features\n",
       "0     size\n",
       "1     year"
      ]
     },
     "execution_count": 18,
     "metadata": {},
     "output_type": "execute_result"
    }
   ],
   "source": [
    "reg_summary = pd.DataFrame(data=x.columns.values, columns=['Features'])\n",
    "\n",
    "reg_summary"
   ]
  },
  {
   "cell_type": "code",
   "execution_count": 19,
   "id": "359082c1",
   "metadata": {},
   "outputs": [],
   "source": [
    "reg_summary ['p-values'] = p_values.round(3) #pulls the rounded p-values earlier and sorts them into our table\n",
    "reg_summary ['Coefficients'] = reg.coef_[0] #pulls coefficients from earlier the [0] helped resolve an issue with indexing the columns"
   ]
  },
  {
   "cell_type": "code",
   "execution_count": 20,
   "id": "67b8f124",
   "metadata": {},
   "outputs": [
    {
     "data": {
      "text/html": [
       "<div>\n",
       "<style scoped>\n",
       "    .dataframe tbody tr th:only-of-type {\n",
       "        vertical-align: middle;\n",
       "    }\n",
       "\n",
       "    .dataframe tbody tr th {\n",
       "        vertical-align: top;\n",
       "    }\n",
       "\n",
       "    .dataframe thead th {\n",
       "        text-align: right;\n",
       "    }\n",
       "</style>\n",
       "<table border=\"1\" class=\"dataframe\">\n",
       "  <thead>\n",
       "    <tr style=\"text-align: right;\">\n",
       "      <th></th>\n",
       "      <th>Features</th>\n",
       "      <th>p-values</th>\n",
       "      <th>Coefficients</th>\n",
       "    </tr>\n",
       "  </thead>\n",
       "  <tbody>\n",
       "    <tr>\n",
       "      <th>0</th>\n",
       "      <td>size</td>\n",
       "      <td>0.000</td>\n",
       "      <td>227.700854</td>\n",
       "    </tr>\n",
       "    <tr>\n",
       "      <th>1</th>\n",
       "      <td>year</td>\n",
       "      <td>0.357</td>\n",
       "      <td>2916.785327</td>\n",
       "    </tr>\n",
       "  </tbody>\n",
       "</table>\n",
       "</div>"
      ],
      "text/plain": [
       "  Features  p-values  Coefficients\n",
       "0     size     0.000    227.700854\n",
       "1     year     0.357   2916.785327"
      ]
     },
     "execution_count": 20,
     "metadata": {},
     "output_type": "execute_result"
    }
   ],
   "source": [
    "reg_summary"
   ]
  },
  {
   "cell_type": "markdown",
   "id": "15581d3f",
   "metadata": {},
   "source": [
    "# Standardising the input variables\n",
    "\n",
    "This will help us understand which of the variables is a better predictor, and triangulate results from the f-regression"
   ]
  },
  {
   "cell_type": "code",
   "execution_count": 21,
   "id": "28aaaf49",
   "metadata": {},
   "outputs": [],
   "source": [
    "from sklearn.preprocessing import StandardScaler"
   ]
  },
  {
   "cell_type": "code",
   "execution_count": 22,
   "id": "b392d14d",
   "metadata": {},
   "outputs": [],
   "source": [
    "scaled = StandardScaler() # empty scaled object for scaling "
   ]
  },
  {
   "cell_type": "code",
   "execution_count": 23,
   "id": "013bd6d2",
   "metadata": {},
   "outputs": [
    {
     "data": {
      "text/html": [
       "<style>#sk-container-id-2 {color: black;background-color: white;}#sk-container-id-2 pre{padding: 0;}#sk-container-id-2 div.sk-toggleable {background-color: white;}#sk-container-id-2 label.sk-toggleable__label {cursor: pointer;display: block;width: 100%;margin-bottom: 0;padding: 0.3em;box-sizing: border-box;text-align: center;}#sk-container-id-2 label.sk-toggleable__label-arrow:before {content: \"▸\";float: left;margin-right: 0.25em;color: #696969;}#sk-container-id-2 label.sk-toggleable__label-arrow:hover:before {color: black;}#sk-container-id-2 div.sk-estimator:hover label.sk-toggleable__label-arrow:before {color: black;}#sk-container-id-2 div.sk-toggleable__content {max-height: 0;max-width: 0;overflow: hidden;text-align: left;background-color: #f0f8ff;}#sk-container-id-2 div.sk-toggleable__content pre {margin: 0.2em;color: black;border-radius: 0.25em;background-color: #f0f8ff;}#sk-container-id-2 input.sk-toggleable__control:checked~div.sk-toggleable__content {max-height: 200px;max-width: 100%;overflow: auto;}#sk-container-id-2 input.sk-toggleable__control:checked~label.sk-toggleable__label-arrow:before {content: \"▾\";}#sk-container-id-2 div.sk-estimator input.sk-toggleable__control:checked~label.sk-toggleable__label {background-color: #d4ebff;}#sk-container-id-2 div.sk-label input.sk-toggleable__control:checked~label.sk-toggleable__label {background-color: #d4ebff;}#sk-container-id-2 input.sk-hidden--visually {border: 0;clip: rect(1px 1px 1px 1px);clip: rect(1px, 1px, 1px, 1px);height: 1px;margin: -1px;overflow: hidden;padding: 0;position: absolute;width: 1px;}#sk-container-id-2 div.sk-estimator {font-family: monospace;background-color: #f0f8ff;border: 1px dotted black;border-radius: 0.25em;box-sizing: border-box;margin-bottom: 0.5em;}#sk-container-id-2 div.sk-estimator:hover {background-color: #d4ebff;}#sk-container-id-2 div.sk-parallel-item::after {content: \"\";width: 100%;border-bottom: 1px solid gray;flex-grow: 1;}#sk-container-id-2 div.sk-label:hover label.sk-toggleable__label {background-color: #d4ebff;}#sk-container-id-2 div.sk-serial::before {content: \"\";position: absolute;border-left: 1px solid gray;box-sizing: border-box;top: 0;bottom: 0;left: 50%;z-index: 0;}#sk-container-id-2 div.sk-serial {display: flex;flex-direction: column;align-items: center;background-color: white;padding-right: 0.2em;padding-left: 0.2em;position: relative;}#sk-container-id-2 div.sk-item {position: relative;z-index: 1;}#sk-container-id-2 div.sk-parallel {display: flex;align-items: stretch;justify-content: center;background-color: white;position: relative;}#sk-container-id-2 div.sk-item::before, #sk-container-id-2 div.sk-parallel-item::before {content: \"\";position: absolute;border-left: 1px solid gray;box-sizing: border-box;top: 0;bottom: 0;left: 50%;z-index: -1;}#sk-container-id-2 div.sk-parallel-item {display: flex;flex-direction: column;z-index: 1;position: relative;background-color: white;}#sk-container-id-2 div.sk-parallel-item:first-child::after {align-self: flex-end;width: 50%;}#sk-container-id-2 div.sk-parallel-item:last-child::after {align-self: flex-start;width: 50%;}#sk-container-id-2 div.sk-parallel-item:only-child::after {width: 0;}#sk-container-id-2 div.sk-dashed-wrapped {border: 1px dashed gray;margin: 0 0.4em 0.5em 0.4em;box-sizing: border-box;padding-bottom: 0.4em;background-color: white;}#sk-container-id-2 div.sk-label label {font-family: monospace;font-weight: bold;display: inline-block;line-height: 1.2em;}#sk-container-id-2 div.sk-label-container {text-align: center;}#sk-container-id-2 div.sk-container {/* jupyter's `normalize.less` sets `[hidden] { display: none; }` but bootstrap.min.css set `[hidden] { display: none !important; }` so we also need the `!important` here to be able to override the default hidden behavior on the sphinx rendered scikit-learn.org. See: https://github.com/scikit-learn/scikit-learn/issues/21755 */display: inline-block !important;position: relative;}#sk-container-id-2 div.sk-text-repr-fallback {display: none;}</style><div id=\"sk-container-id-2\" class=\"sk-top-container\"><div class=\"sk-text-repr-fallback\"><pre>StandardScaler()</pre><b>In a Jupyter environment, please rerun this cell to show the HTML representation or trust the notebook. <br />On GitHub, the HTML representation is unable to render, please try loading this page with nbviewer.org.</b></div><div class=\"sk-container\" hidden><div class=\"sk-item\"><div class=\"sk-estimator sk-toggleable\"><input class=\"sk-toggleable__control sk-hidden--visually\" id=\"sk-estimator-id-2\" type=\"checkbox\" checked><label for=\"sk-estimator-id-2\" class=\"sk-toggleable__label sk-toggleable__label-arrow\">StandardScaler</label><div class=\"sk-toggleable__content\"><pre>StandardScaler()</pre></div></div></div></div></div>"
      ],
      "text/plain": [
       "StandardScaler()"
      ]
     },
     "execution_count": 23,
     "metadata": {},
     "output_type": "execute_result"
    }
   ],
   "source": [
    "scaled.fit(x) #we take the defined x variables from earlier to be scaled"
   ]
  },
  {
   "cell_type": "code",
   "execution_count": 24,
   "id": "5ca15cb1",
   "metadata": {},
   "outputs": [],
   "source": [
    "x_scaled = scaled.transform(x) #transforming the new defined variable "
   ]
  },
  {
   "cell_type": "code",
   "execution_count": 25,
   "id": "9b8bc97d",
   "metadata": {},
   "outputs": [
    {
     "data": {
      "text/plain": [
       "array([[-0.937209  , -1.40266877],\n",
       "       [-0.78328682, -1.40266877],\n",
       "       [ 1.51100715, -1.40266877],\n",
       "       [ 1.77668568, -1.40266877],\n",
       "       [-0.77276222, -1.40266877],\n",
       "       [-0.58004747, -1.40266877],\n",
       "       [ 0.5306345 , -1.40266877],\n",
       "       [-0.58004747, -1.40266877],\n",
       "       [-0.10057126, -1.40266877],\n",
       "       [-0.95387294, -1.40266877],\n",
       "       [-0.5219598 , -1.40266877],\n",
       "       [-0.42214483, -1.40266877],\n",
       "       [-0.08495304, -1.40266877],\n",
       "       [ 0.52699137, -1.40266877],\n",
       "       [ 2.17014356, -1.40266877],\n",
       "       [-0.70708471, -1.40266877],\n",
       "       [ 1.62279723, -1.40266877],\n",
       "       [ 1.13205431, -1.40266877],\n",
       "       [-0.58004747, -1.40266877],\n",
       "       [-0.58004747, -1.40266877],\n",
       "       [-1.25915362, -1.40266877],\n",
       "       [-0.5219598 , -1.40266877],\n",
       "       [ 2.19844528, -1.40266877],\n",
       "       [-0.49834693, -1.40266877],\n",
       "       [-0.66387316, -0.76509206],\n",
       "       [ 1.42498884, -0.76509206],\n",
       "       [-0.53467702, -0.76509206],\n",
       "       [ 0.69939906, -0.76509206],\n",
       "       [ 3.33780001, -0.76509206],\n",
       "       [-1.10378093, -0.76509206],\n",
       "       [-0.8606021 , -0.76509206],\n",
       "       [-0.10057126, -0.76509206],\n",
       "       [ 1.62279723, -0.76509206],\n",
       "       [-0.7415595 , -0.76509206],\n",
       "       [ 0.56983186, -0.76509206],\n",
       "       [ 0.56983186, -0.76509206],\n",
       "       [ 0.56983186, -0.76509206],\n",
       "       [-0.57603328, -0.76509206],\n",
       "       [ 0.59162317, -0.76509206],\n",
       "       [-1.02285625, -0.76509206],\n",
       "       [ 0.62208377, -0.76509206],\n",
       "       [-0.70816415,  0.51006137],\n",
       "       [ 2.19844528,  0.51006137],\n",
       "       [-0.95171405,  0.51006137],\n",
       "       [-0.53467702,  0.51006137],\n",
       "       [-0.78365788,  0.51006137],\n",
       "       [-1.02322731,  0.51006137],\n",
       "       [ 1.19557293,  0.51006137],\n",
       "       [-1.12884431,  0.51006137],\n",
       "       [ 1.62279723,  0.51006137],\n",
       "       [-0.58004747,  0.51006137],\n",
       "       [ 2.17014356,  0.51006137],\n",
       "       [-1.10378093,  0.51006137],\n",
       "       [-0.5219598 ,  0.51006137],\n",
       "       [ 0.56983186,  0.51006137],\n",
       "       [-0.5219598 ,  0.51006137],\n",
       "       [-0.7415595 ,  0.51006137],\n",
       "       [-0.79600403,  0.51006137],\n",
       "       [-0.69328805,  0.51006137],\n",
       "       [ 0.56983186,  0.51006137],\n",
       "       [-0.69328805,  0.51006137],\n",
       "       [ 1.45329055,  0.51006137],\n",
       "       [-0.95751607,  0.51006137],\n",
       "       [-0.52125142,  0.51006137],\n",
       "       [ 1.18939985,  0.51006137],\n",
       "       [-0.56517136,  0.51006137],\n",
       "       [-0.08748299,  0.51006137],\n",
       "       [-1.02285625,  0.51006137],\n",
       "       [-0.66387316,  0.51006137],\n",
       "       [-1.02285625,  0.51006137],\n",
       "       [ 0.90847416,  0.51006137],\n",
       "       [ 0.73714592,  0.51006137],\n",
       "       [-0.53467702,  0.51006137],\n",
       "       [-0.69062317,  0.51006137],\n",
       "       [-1.23371919,  1.14763808],\n",
       "       [-0.57603328,  1.14763808],\n",
       "       [ 0.52699137,  1.14763808],\n",
       "       [-0.54810263,  1.14763808],\n",
       "       [ 0.58943055,  1.14763808],\n",
       "       [ 0.84424715,  1.14763808],\n",
       "       [-0.95171405,  1.14763808],\n",
       "       [ 0.015233  ,  1.14763808],\n",
       "       [-0.77603429,  1.14763808],\n",
       "       [-0.56517136,  1.14763808],\n",
       "       [-0.57603328,  1.14763808],\n",
       "       [ 0.69939906,  1.14763808],\n",
       "       [ 2.21224194,  1.14763808],\n",
       "       [ 0.6039356 ,  1.14763808],\n",
       "       [-0.08387359,  1.14763808],\n",
       "       [-0.56517136,  1.14763808],\n",
       "       [-0.56517136,  1.14763808],\n",
       "       [-0.56517136,  1.14763808],\n",
       "       [ 1.11464825,  1.14763808],\n",
       "       [-0.70816415,  1.14763808],\n",
       "       [-0.56517136,  1.14763808],\n",
       "       [ 0.52699137,  1.14763808],\n",
       "       [-0.84791862,  1.14763808],\n",
       "       [ 1.29501685,  1.14763808],\n",
       "       [-0.53467702,  1.14763808],\n",
       "       [-0.5219598 ,  1.14763808]])"
      ]
     },
     "execution_count": 25,
     "metadata": {},
     "output_type": "execute_result"
    }
   ],
   "source": [
    "x_scaled #check to make sure the data are transformed"
   ]
  },
  {
   "cell_type": "markdown",
   "id": "ee2a2bec",
   "metadata": {},
   "source": [
    "# Regression with Scaled Features"
   ]
  },
  {
   "cell_type": "code",
   "execution_count": 26,
   "id": "53c86cb9",
   "metadata": {},
   "outputs": [
    {
     "data": {
      "text/html": [
       "<style>#sk-container-id-3 {color: black;background-color: white;}#sk-container-id-3 pre{padding: 0;}#sk-container-id-3 div.sk-toggleable {background-color: white;}#sk-container-id-3 label.sk-toggleable__label {cursor: pointer;display: block;width: 100%;margin-bottom: 0;padding: 0.3em;box-sizing: border-box;text-align: center;}#sk-container-id-3 label.sk-toggleable__label-arrow:before {content: \"▸\";float: left;margin-right: 0.25em;color: #696969;}#sk-container-id-3 label.sk-toggleable__label-arrow:hover:before {color: black;}#sk-container-id-3 div.sk-estimator:hover label.sk-toggleable__label-arrow:before {color: black;}#sk-container-id-3 div.sk-toggleable__content {max-height: 0;max-width: 0;overflow: hidden;text-align: left;background-color: #f0f8ff;}#sk-container-id-3 div.sk-toggleable__content pre {margin: 0.2em;color: black;border-radius: 0.25em;background-color: #f0f8ff;}#sk-container-id-3 input.sk-toggleable__control:checked~div.sk-toggleable__content {max-height: 200px;max-width: 100%;overflow: auto;}#sk-container-id-3 input.sk-toggleable__control:checked~label.sk-toggleable__label-arrow:before {content: \"▾\";}#sk-container-id-3 div.sk-estimator input.sk-toggleable__control:checked~label.sk-toggleable__label {background-color: #d4ebff;}#sk-container-id-3 div.sk-label input.sk-toggleable__control:checked~label.sk-toggleable__label {background-color: #d4ebff;}#sk-container-id-3 input.sk-hidden--visually {border: 0;clip: rect(1px 1px 1px 1px);clip: rect(1px, 1px, 1px, 1px);height: 1px;margin: -1px;overflow: hidden;padding: 0;position: absolute;width: 1px;}#sk-container-id-3 div.sk-estimator {font-family: monospace;background-color: #f0f8ff;border: 1px dotted black;border-radius: 0.25em;box-sizing: border-box;margin-bottom: 0.5em;}#sk-container-id-3 div.sk-estimator:hover {background-color: #d4ebff;}#sk-container-id-3 div.sk-parallel-item::after {content: \"\";width: 100%;border-bottom: 1px solid gray;flex-grow: 1;}#sk-container-id-3 div.sk-label:hover label.sk-toggleable__label {background-color: #d4ebff;}#sk-container-id-3 div.sk-serial::before {content: \"\";position: absolute;border-left: 1px solid gray;box-sizing: border-box;top: 0;bottom: 0;left: 50%;z-index: 0;}#sk-container-id-3 div.sk-serial {display: flex;flex-direction: column;align-items: center;background-color: white;padding-right: 0.2em;padding-left: 0.2em;position: relative;}#sk-container-id-3 div.sk-item {position: relative;z-index: 1;}#sk-container-id-3 div.sk-parallel {display: flex;align-items: stretch;justify-content: center;background-color: white;position: relative;}#sk-container-id-3 div.sk-item::before, #sk-container-id-3 div.sk-parallel-item::before {content: \"\";position: absolute;border-left: 1px solid gray;box-sizing: border-box;top: 0;bottom: 0;left: 50%;z-index: -1;}#sk-container-id-3 div.sk-parallel-item {display: flex;flex-direction: column;z-index: 1;position: relative;background-color: white;}#sk-container-id-3 div.sk-parallel-item:first-child::after {align-self: flex-end;width: 50%;}#sk-container-id-3 div.sk-parallel-item:last-child::after {align-self: flex-start;width: 50%;}#sk-container-id-3 div.sk-parallel-item:only-child::after {width: 0;}#sk-container-id-3 div.sk-dashed-wrapped {border: 1px dashed gray;margin: 0 0.4em 0.5em 0.4em;box-sizing: border-box;padding-bottom: 0.4em;background-color: white;}#sk-container-id-3 div.sk-label label {font-family: monospace;font-weight: bold;display: inline-block;line-height: 1.2em;}#sk-container-id-3 div.sk-label-container {text-align: center;}#sk-container-id-3 div.sk-container {/* jupyter's `normalize.less` sets `[hidden] { display: none; }` but bootstrap.min.css set `[hidden] { display: none !important; }` so we also need the `!important` here to be able to override the default hidden behavior on the sphinx rendered scikit-learn.org. See: https://github.com/scikit-learn/scikit-learn/issues/21755 */display: inline-block !important;position: relative;}#sk-container-id-3 div.sk-text-repr-fallback {display: none;}</style><div id=\"sk-container-id-3\" class=\"sk-top-container\"><div class=\"sk-text-repr-fallback\"><pre>LinearRegression()</pre><b>In a Jupyter environment, please rerun this cell to show the HTML representation or trust the notebook. <br />On GitHub, the HTML representation is unable to render, please try loading this page with nbviewer.org.</b></div><div class=\"sk-container\" hidden><div class=\"sk-item\"><div class=\"sk-estimator sk-toggleable\"><input class=\"sk-toggleable__control sk-hidden--visually\" id=\"sk-estimator-id-3\" type=\"checkbox\" checked><label for=\"sk-estimator-id-3\" class=\"sk-toggleable__label sk-toggleable__label-arrow\">LinearRegression</label><div class=\"sk-toggleable__content\"><pre>LinearRegression()</pre></div></div></div></div></div>"
      ],
      "text/plain": [
       "LinearRegression()"
      ]
     },
     "execution_count": 26,
     "metadata": {},
     "output_type": "execute_result"
    }
   ],
   "source": [
    "reg1 = LinearRegression() #standard regression\n",
    "reg1.fit(x_scaled,y) #calling the scaled x features now"
   ]
  },
  {
   "cell_type": "code",
   "execution_count": 27,
   "id": "32517347",
   "metadata": {
    "scrolled": true
   },
   "outputs": [
    {
     "data": {
      "text/plain": [
       "array([[67501.57614152, 13724.39708231]])"
      ]
     },
     "execution_count": 27,
     "metadata": {},
     "output_type": "execute_result"
    }
   ],
   "source": [
    "reg1.coef_"
   ]
  },
  {
   "cell_type": "code",
   "execution_count": 28,
   "id": "cabda020",
   "metadata": {},
   "outputs": [
    {
     "data": {
      "text/plain": [
       "array([292289.47016])"
      ]
     },
     "execution_count": 28,
     "metadata": {},
     "output_type": "execute_result"
    }
   ],
   "source": [
    "reg1.intercept_"
   ]
  },
  {
   "cell_type": "markdown",
   "id": "f3b4d345",
   "metadata": {},
   "source": [
    "# Standardised Results Summary Table"
   ]
  },
  {
   "cell_type": "code",
   "execution_count": 29,
   "id": "9ba3c1f5",
   "metadata": {},
   "outputs": [
    {
     "data": {
      "text/html": [
       "<div>\n",
       "<style scoped>\n",
       "    .dataframe tbody tr th:only-of-type {\n",
       "        vertical-align: middle;\n",
       "    }\n",
       "\n",
       "    .dataframe tbody tr th {\n",
       "        vertical-align: top;\n",
       "    }\n",
       "\n",
       "    .dataframe thead th {\n",
       "        text-align: right;\n",
       "    }\n",
       "</style>\n",
       "<table border=\"1\" class=\"dataframe\">\n",
       "  <thead>\n",
       "    <tr style=\"text-align: right;\">\n",
       "      <th></th>\n",
       "      <th>Features</th>\n",
       "      <th>Weights</th>\n",
       "    </tr>\n",
       "  </thead>\n",
       "  <tbody>\n",
       "    <tr>\n",
       "      <th>0</th>\n",
       "      <td>Bias</td>\n",
       "      <td>[292289.47015999997]</td>\n",
       "    </tr>\n",
       "    <tr>\n",
       "      <th>1</th>\n",
       "      <td>Size</td>\n",
       "      <td>67501.576142</td>\n",
       "    </tr>\n",
       "    <tr>\n",
       "      <th>2</th>\n",
       "      <td>Year</td>\n",
       "      <td>13724.397082</td>\n",
       "    </tr>\n",
       "  </tbody>\n",
       "</table>\n",
       "</div>"
      ],
      "text/plain": [
       "  Features               Weights\n",
       "0     Bias  [292289.47015999997]\n",
       "1     Size          67501.576142\n",
       "2     Year          13724.397082"
      ]
     },
     "execution_count": 29,
     "metadata": {},
     "output_type": "execute_result"
    }
   ],
   "source": [
    "reg1_summary = pd.DataFrame([['Bias'], ['Size'], ['Year']], columns=['Features'])\n",
    "reg1_summary['Weights'] = [reg1.intercept_, reg1.coef_[0][0], reg1.coef_[0][1]] \n",
    "#the [0][0]/[1] is used to index from a 2 row array properly because there are 2 values given, this indexes the vlaues properly\n",
    "reg1_summary"
   ]
  },
  {
   "cell_type": "markdown",
   "id": "2090cb73",
   "metadata": {},
   "source": [
    "# Prediction using Features"
   ]
  },
  {
   "cell_type": "code",
   "execution_count": 30,
   "id": "18ef9480",
   "metadata": {},
   "outputs": [
    {
     "data": {
      "text/html": [
       "<div>\n",
       "<style scoped>\n",
       "    .dataframe tbody tr th:only-of-type {\n",
       "        vertical-align: middle;\n",
       "    }\n",
       "\n",
       "    .dataframe tbody tr th {\n",
       "        vertical-align: top;\n",
       "    }\n",
       "\n",
       "    .dataframe thead th {\n",
       "        text-align: right;\n",
       "    }\n",
       "</style>\n",
       "<table border=\"1\" class=\"dataframe\">\n",
       "  <thead>\n",
       "    <tr style=\"text-align: right;\">\n",
       "      <th></th>\n",
       "      <th>size</th>\n",
       "      <th>year</th>\n",
       "    </tr>\n",
       "  </thead>\n",
       "  <tbody>\n",
       "    <tr>\n",
       "      <th>0</th>\n",
       "      <td>250</td>\n",
       "      <td>3</td>\n",
       "    </tr>\n",
       "    <tr>\n",
       "      <th>1</th>\n",
       "      <td>349</td>\n",
       "      <td>4</td>\n",
       "    </tr>\n",
       "    <tr>\n",
       "      <th>2</th>\n",
       "      <td>500</td>\n",
       "      <td>5</td>\n",
       "    </tr>\n",
       "    <tr>\n",
       "      <th>3</th>\n",
       "      <td>720</td>\n",
       "      <td>7</td>\n",
       "    </tr>\n",
       "    <tr>\n",
       "      <th>4</th>\n",
       "      <td>881</td>\n",
       "      <td>5</td>\n",
       "    </tr>\n",
       "    <tr>\n",
       "      <th>5</th>\n",
       "      <td>914</td>\n",
       "      <td>8</td>\n",
       "    </tr>\n",
       "    <tr>\n",
       "      <th>6</th>\n",
       "      <td>1112</td>\n",
       "      <td>4</td>\n",
       "    </tr>\n",
       "    <tr>\n",
       "      <th>7</th>\n",
       "      <td>743</td>\n",
       "      <td>15</td>\n",
       "    </tr>\n",
       "  </tbody>\n",
       "</table>\n",
       "</div>"
      ],
      "text/plain": [
       "   size  year\n",
       "0   250     3\n",
       "1   349     4\n",
       "2   500     5\n",
       "3   720     7\n",
       "4   881     5\n",
       "5   914     8\n",
       "6  1112     4\n",
       "7   743    15"
      ]
     },
     "execution_count": 30,
     "metadata": {},
     "output_type": "execute_result"
    }
   ],
   "source": [
    "test_data = pd.DataFrame(data=[[250, 3],[349,4],[500, 5],[720,7],[881,5],[914,8],[1112,4],[743,15]], columns=['size','year'])\n",
    "test_data #note, these data are totally made up and have no prices attached to them, this is simply to see the predictions"
   ]
  },
  {
   "cell_type": "code",
   "execution_count": 45,
   "id": "9bd76fb2",
   "metadata": {},
   "outputs": [],
   "source": [
    "reg1.predict(test_data) #this is using standardised regression features from earlier\n",
    "#note, these predictions are way off, because the features are scaled, but the inputs are not\n",
    "import warnings\n",
    "with warnings.catch_warnings():\n",
    "    warnings.simplefilter(\"ignore\") #ignore warning in this line that doesn't affect the output - done for privacy"
   ]
  },
  {
   "cell_type": "code",
   "execution_count": 32,
   "id": "514d0ad2",
   "metadata": {},
   "outputs": [
    {
     "data": {
      "text/plain": [
       "array([[144479.91765621],\n",
       "       [169939.08752979],\n",
       "       [207238.70181175],\n",
       "       [263166.46034707],\n",
       "       [293992.7271886 ],\n",
       "       [310257.21135136],\n",
       "       [343674.83913749],\n",
       "       [291737.86260395]])"
      ]
     },
     "execution_count": 32,
     "metadata": {},
     "output_type": "execute_result"
    }
   ],
   "source": [
    "reg.predict(test_data) #this is using unstandardised regression features from earlier\n",
    "#note, these predictions are accurate because they take the unstandardised inputs that we created in the test data"
   ]
  },
  {
   "cell_type": "code",
   "execution_count": 33,
   "id": "f603ae2a",
   "metadata": {},
   "outputs": [
    {
     "data": {
      "text/plain": [
       "array([[-2.03416177, -0.76509206],\n",
       "       [-1.70020831, -0.55256648],\n",
       "       [-1.19084496, -0.34004091],\n",
       "       [-0.44872617,  0.08501023],\n",
       "       [ 0.09436985, -0.34004091],\n",
       "       [ 0.20568767,  0.2975358 ],\n",
       "       [ 0.87359458, -0.55256648],\n",
       "       [-0.37114103,  1.7852148 ]])"
      ]
     },
     "execution_count": 33,
     "metadata": {},
     "output_type": "execute_result"
    }
   ],
   "source": [
    "test_data_scaled = scaled.transform(test_data) #we call back the scaling function from earlier\n",
    "test_data_scaled #these are our new testing data scaled that can use standardised features to make predictions"
   ]
  },
  {
   "cell_type": "code",
   "execution_count": 34,
   "id": "c60c74ea",
   "metadata": {},
   "outputs": [
    {
     "data": {
      "text/plain": [
       "array([[144479.91765621],\n",
       "       [169939.08752979],\n",
       "       [207238.70181175],\n",
       "       [263166.46034707],\n",
       "       [293992.7271886 ],\n",
       "       [310257.21135136],\n",
       "       [343674.83913749],\n",
       "       [291737.86260395]])"
      ]
     },
     "execution_count": 34,
     "metadata": {},
     "output_type": "execute_result"
    }
   ],
   "source": [
    "reg1.predict(test_data_scaled) #now we take the scaled inputs through our scaled features\n",
    "#now our results look similar to the unscaled feautre regression prediction, which shows it has been successful"
   ]
  },
  {
   "cell_type": "markdown",
   "id": "02fc4dda",
   "metadata": {},
   "source": [
    "# Prediction Using Test Data"
   ]
  },
  {
   "cell_type": "code",
   "execution_count": 35,
   "id": "20a50578",
   "metadata": {},
   "outputs": [],
   "source": [
    "testing_data = pd.read_csv('real_estate_price_size_year_test.csv') #load our actual testing data"
   ]
  },
  {
   "cell_type": "code",
   "execution_count": 36,
   "id": "e036c535",
   "metadata": {},
   "outputs": [
    {
     "data": {
      "text/html": [
       "<div>\n",
       "<style scoped>\n",
       "    .dataframe tbody tr th:only-of-type {\n",
       "        vertical-align: middle;\n",
       "    }\n",
       "\n",
       "    .dataframe tbody tr th {\n",
       "        vertical-align: top;\n",
       "    }\n",
       "\n",
       "    .dataframe thead th {\n",
       "        text-align: right;\n",
       "    }\n",
       "</style>\n",
       "<table border=\"1\" class=\"dataframe\">\n",
       "  <thead>\n",
       "    <tr style=\"text-align: right;\">\n",
       "      <th></th>\n",
       "      <th>price</th>\n",
       "      <th>size</th>\n",
       "      <th>year</th>\n",
       "    </tr>\n",
       "  </thead>\n",
       "  <tbody>\n",
       "    <tr>\n",
       "      <th>0</th>\n",
       "      <td>263010.280</td>\n",
       "      <td>532.19</td>\n",
       "      <td>7</td>\n",
       "    </tr>\n",
       "    <tr>\n",
       "      <th>1</th>\n",
       "      <td>181316.480</td>\n",
       "      <td>627.82</td>\n",
       "      <td>5</td>\n",
       "    </tr>\n",
       "    <tr>\n",
       "      <th>2</th>\n",
       "      <td>444192.008</td>\n",
       "      <td>1300.96</td>\n",
       "      <td>4</td>\n",
       "    </tr>\n",
       "    <tr>\n",
       "      <th>3</th>\n",
       "      <td>440201.616</td>\n",
       "      <td>1379.72</td>\n",
       "      <td>1</td>\n",
       "    </tr>\n",
       "    <tr>\n",
       "      <th>4</th>\n",
       "      <td>264138.160</td>\n",
       "      <td>623.94</td>\n",
       "      <td>0</td>\n",
       "    </tr>\n",
       "    <tr>\n",
       "      <th>5</th>\n",
       "      <td>225451.984</td>\n",
       "      <td>681.07</td>\n",
       "      <td>0</td>\n",
       "    </tr>\n",
       "    <tr>\n",
       "      <th>6</th>\n",
       "      <td>303655.728</td>\n",
       "      <td>1010.33</td>\n",
       "      <td>1</td>\n",
       "    </tr>\n",
       "    <tr>\n",
       "      <th>7</th>\n",
       "      <td>225452.320</td>\n",
       "      <td>700.07</td>\n",
       "      <td>8</td>\n",
       "    </tr>\n",
       "    <tr>\n",
       "      <th>8</th>\n",
       "      <td>269225.920</td>\n",
       "      <td>875.21</td>\n",
       "      <td>3</td>\n",
       "    </tr>\n",
       "    <tr>\n",
       "      <th>9</th>\n",
       "      <td>213393.208</td>\n",
       "      <td>611.25</td>\n",
       "      <td>1</td>\n",
       "    </tr>\n",
       "    <tr>\n",
       "      <th>10</th>\n",
       "      <td>202728.048</td>\n",
       "      <td>721.29</td>\n",
       "      <td>0</td>\n",
       "    </tr>\n",
       "    <tr>\n",
       "      <th>11</th>\n",
       "      <td>279323.056</td>\n",
       "      <td>766.88</td>\n",
       "      <td>9</td>\n",
       "    </tr>\n",
       "    <tr>\n",
       "      <th>12</th>\n",
       "      <td>320477.128</td>\n",
       "      <td>777.84</td>\n",
       "      <td>3</td>\n",
       "    </tr>\n",
       "    <tr>\n",
       "      <th>13</th>\n",
       "      <td>325151.200</td>\n",
       "      <td>1109.25</td>\n",
       "      <td>0</td>\n",
       "    </tr>\n",
       "    <tr>\n",
       "      <th>14</th>\n",
       "      <td>444412.760</td>\n",
       "      <td>1469.36</td>\n",
       "      <td>1</td>\n",
       "    </tr>\n",
       "    <tr>\n",
       "      <th>15</th>\n",
       "      <td>231111.576</td>\n",
       "      <td>653.41</td>\n",
       "      <td>2</td>\n",
       "    </tr>\n",
       "    <tr>\n",
       "      <th>16</th>\n",
       "      <td>329963.936</td>\n",
       "      <td>1244.10</td>\n",
       "      <td>12</td>\n",
       "    </tr>\n",
       "    <tr>\n",
       "      <th>17</th>\n",
       "      <td>336988.456</td>\n",
       "      <td>1198.62</td>\n",
       "      <td>2</td>\n",
       "    </tr>\n",
       "    <tr>\n",
       "      <th>18</th>\n",
       "      <td>221007.216</td>\n",
       "      <td>671.07</td>\n",
       "      <td>10</td>\n",
       "    </tr>\n",
       "  </tbody>\n",
       "</table>\n",
       "</div>"
      ],
      "text/plain": [
       "         price     size  year\n",
       "0   263010.280   532.19     7\n",
       "1   181316.480   627.82     5\n",
       "2   444192.008  1300.96     4\n",
       "3   440201.616  1379.72     1\n",
       "4   264138.160   623.94     0\n",
       "5   225451.984   681.07     0\n",
       "6   303655.728  1010.33     1\n",
       "7   225452.320   700.07     8\n",
       "8   269225.920   875.21     3\n",
       "9   213393.208   611.25     1\n",
       "10  202728.048   721.29     0\n",
       "11  279323.056   766.88     9\n",
       "12  320477.128   777.84     3\n",
       "13  325151.200  1109.25     0\n",
       "14  444412.760  1469.36     1\n",
       "15  231111.576   653.41     2\n",
       "16  329963.936  1244.10    12\n",
       "17  336988.456  1198.62     2\n",
       "18  221007.216   671.07    10"
      ]
     },
     "execution_count": 36,
     "metadata": {},
     "output_type": "execute_result"
    }
   ],
   "source": [
    "testing_data #check our data is in the same format as our earlier data, it is"
   ]
  },
  {
   "cell_type": "code",
   "execution_count": 37,
   "id": "513255b7",
   "metadata": {},
   "outputs": [],
   "source": [
    "from sklearn.metrics import mean_squared_error, r2_score #this will help evaluate test vs practice model fitting"
   ]
  },
  {
   "cell_type": "code",
   "execution_count": 38,
   "id": "a4735421",
   "metadata": {},
   "outputs": [],
   "source": [
    "test_prediction = reg.predict(testing_data[['size','year']]) #make predictions from features size and year\n",
    "actual_y = (testing_data[['price']]) #store actual prices for comparison later"
   ]
  },
  {
   "cell_type": "code",
   "execution_count": 39,
   "id": "34ebfb75",
   "metadata": {},
   "outputs": [
    {
     "data": {
      "text/plain": [
       "array([[220401.96295593],\n",
       "       [236343.42497099],\n",
       "       [386701.19251074],\n",
       "       [395884.55579186],\n",
       "       [220876.01902325],\n",
       "       [233884.5688127 ],\n",
       "       [311774.13733004],\n",
       "       [261545.16765354],\n",
       "       [286840.76859022],\n",
       "       [220903.28051273],\n",
       "       [243042.69716088],\n",
       "       [279674.64703662],\n",
       "       [264669.53643551],\n",
       "       [331381.52048162],\n",
       "       [416295.66034509],\n",
       "       [233419.93384453],\n",
       "       [397088.40456658],\n",
       "       [357564.71645794],\n",
       "       [260775.413541  ]])"
      ]
     },
     "execution_count": 39,
     "metadata": {},
     "output_type": "execute_result"
    }
   ],
   "source": [
    "test_prediction #these are the predicted values, now let's compare them to the actul values using metrics"
   ]
  },
  {
   "cell_type": "code",
   "execution_count": 40,
   "id": "e969eea8",
   "metadata": {},
   "outputs": [],
   "source": [
    "mse_diff = mean_squared_error(actual_y, test_prediction)\n",
    "r_squared_diff = r2_score(actual_y, test_prediction)"
   ]
  },
  {
   "cell_type": "code",
   "execution_count": 41,
   "id": "7cedd6cf",
   "metadata": {},
   "outputs": [
    {
     "data": {
      "text/plain": [
       "1361885343.0382223"
      ]
     },
     "execution_count": 41,
     "metadata": {},
     "output_type": "execute_result"
    }
   ],
   "source": [
    "mse_diff"
   ]
  },
  {
   "cell_type": "code",
   "execution_count": 42,
   "id": "d1f811f8",
   "metadata": {},
   "outputs": [
    {
     "data": {
      "text/plain": [
       "0.7845997294336892"
      ]
     },
     "execution_count": 42,
     "metadata": {},
     "output_type": "execute_result"
    }
   ],
   "source": [
    "r_squared_diff"
   ]
  },
  {
   "cell_type": "markdown",
   "id": "c5310e46",
   "metadata": {},
   "source": [
    "# Visualising Test Prediction Model Outcomes\n",
    "Actual vs predicted score discrepancies"
   ]
  },
  {
   "cell_type": "code",
   "execution_count": 46,
   "id": "9c382376",
   "metadata": {
    "scrolled": false
   },
   "outputs": [
    {
     "data": {
      "image/png": "[encoded data removed]",
      "text/plain": [
       "<Figure size 800x800 with 1 Axes>"
      ]
     },
     "metadata": {},
     "output_type": "display_data"
    }
   ],
   "source": [
    "plt.figure(figsize=(8, 8))\n",
    "plt.scatter(actual_y, test_prediction, color='blue', alpha=0.5)\n",
    "plt.plot(actual_y, actual_y, color='red')\n",
    "plt.title('Actual vs. Predicted Prices with Test Data')\n",
    "plt.xlabel('Actual Prices')\n",
    "plt.ylabel('Predicted Prices')\n",
    "plt.grid(True)\n",
    "plt.show()"
   ]
  },
  {
   "cell_type": "code",
   "execution_count": null,
   "id": "712eac3d",
   "metadata": {},
   "outputs": [],
   "source": []
  }
 ],
 "metadata": {
  "kernelspec": {
   "display_name": "Python 3 (ipykernel)",
   "language": "python",
   "name": "python3"
  },
  "language_info": {
   "codemirror_mode": {
    "name": "ipython",
    "version": 3
   },
   "file_extension": ".py",
   "mimetype": "text/x-python",
   "name": "python",
   "nbconvert_exporter": "python",
   "pygments_lexer": "ipython3",
   "version": "3.11.7"
  }
 },
 "nbformat": 4,
 "nbformat_minor": 5
}
